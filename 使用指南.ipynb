{
 "cells": [
  {
   "cell_type": "markdown",
   "metadata": {},
   "source": [
    "### 首先安裝環境，本環境依賴 CUDA (下收) 和 GPU driver (自行安裝)"
   ]
  },
  {
   "cell_type": "code",
   "execution_count": null,
   "metadata": {
    "vscode": {
     "languageId": "bat"
    }
   },
   "outputs": [],
   "source": [
    "!conda env create -f \"./environment_current.yml\"\n",
    "!conda activate epa"
   ]
  },
  {
   "cell_type": "markdown",
   "metadata": {},
   "source": [
    "### 然後以下列指令啟動網站 (建議還是去打開終端機複製貼上)"
   ]
  },
  {
   "cell_type": "code",
   "execution_count": null,
   "metadata": {
    "vscode": {
     "languageId": "bat"
    }
   },
   "outputs": [],
   "source": [
    "!python \"./server.py\""
   ]
  },
  {
   "cell_type": "markdown",
   "metadata": {},
   "source": [
    "### 看到 `Server initialized` 後，開啟瀏覽器 [一鍵開啟 (つ´ω`)つ](http://127.0.0.1:8080/)"
   ]
  }
 ],
 "metadata": {
  "kernelspec": {
   "display_name": "Python 3.9.13 ('base')",
   "language": "python",
   "name": "python3"
  },
  "language_info": {
   "name": "python",
   "version": "3.9.13"
  },
  "orig_nbformat": 4,
  "vscode": {
   "interpreter": {
    "hash": "c04b038ab78df21d93f8155a6cfb0eaab15a51f5d85bb83befa1b550d8a6a8fc"
   }
  }
 },
 "nbformat": 4,
 "nbformat_minor": 2
}
